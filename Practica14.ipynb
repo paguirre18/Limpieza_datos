{
 "cells": [
  {
   "cell_type": "markdown",
   "id": "f3f41eca",
   "metadata": {},
   "source": [
    "Pablo Alejandro Aguirre Higuera\n",
    "\n",
    "Matrícula: 263845\n",
    "\n",
    "**Práctica #14. Limpieza y Transformación de Datos Categóricos**\n",
    "\n",
    "15/09/2025"
   ]
  },
  {
   "cell_type": "markdown",
   "id": "bd761f8f",
   "metadata": {},
   "source": [
    "**01: Errores Tipográficos y Valores Inconsistentes: maritalstatus**"
   ]
  },
  {
   "cell_type": "code",
   "execution_count": 1,
   "id": "4aa3a24e",
   "metadata": {},
   "outputs": [
    {
     "name": "stdout",
     "output_type": "stream",
     "text": [
      "['Married' 'Never-married' nan 'Divorced' 'Separated' 'Widowed']\n"
     ]
    }
   ],
   "source": [
    "import pandas as pd\n",
    "\n",
    "df = pd.read_csv('nls97.csv')\n",
    "print(df['maritalstatus'].unique())"
   ]
  },
  {
   "cell_type": "code",
   "execution_count": 2,
   "id": "4c56d60f",
   "metadata": {},
   "outputs": [
    {
     "name": "stdout",
     "output_type": "stream",
     "text": [
      "maritalstatus\n",
      "Married          3066\n",
      "Never-married    2766\n",
      "Divorced          663\n",
      "Separated         154\n",
      "Widowed            23\n",
      "Name: count, dtype: int64\n",
      "\n",
      "Número de valores nulos\n",
      " 2312\n"
     ]
    }
   ],
   "source": [
    "print(df['maritalstatus'].value_counts())\n",
    "print(\"\\nNúmero de valores nulos\\n\", df['maritalstatus'].isnull().sum())"
   ]
  },
  {
   "cell_type": "code",
   "execution_count": 3,
   "id": "9d7d538f",
   "metadata": {},
   "outputs": [
    {
     "name": "stdout",
     "output_type": "stream",
     "text": [
      "maritalstatus\n",
      "Married      3066\n",
      "Single       2766\n",
      "Divorced      663\n",
      "Separated     154\n",
      "Widowed        23\n",
      "Name: count, dtype: int64\n"
     ]
    }
   ],
   "source": [
    "df['maritalstatus'] = df['maritalstatus'].replace(\"Never-married\", \"Single\")\n",
    "print(df['maritalstatus'].value_counts())"
   ]
  },
  {
   "cell_type": "markdown",
   "id": "269c4365",
   "metadata": {},
   "source": [
    "Todos los valores \"Never-married\" se han cambiado a \"Single\""
   ]
  },
  {
   "cell_type": "markdown",
   "id": "d673f596",
   "metadata": {},
   "source": [
    "**02: Errores Tipográficos y Valores Inconsistentes: highestdegree**"
   ]
  },
  {
   "cell_type": "code",
   "execution_count": 4,
   "id": "6381fcf8",
   "metadata": {},
   "outputs": [
    {
     "name": "stdout",
     "output_type": "stream",
     "text": [
      "['2. High School' '0. None' '4. Bachelors' '3. Associates' '5. Masters'\n",
      " '1. GED' '7. Professional' '6. PhD' nan]\n"
     ]
    }
   ],
   "source": [
    "print(df['highestdegree'].unique())"
   ]
  },
  {
   "cell_type": "code",
   "execution_count": 5,
   "id": "3bef04c8",
   "metadata": {},
   "outputs": [
    {
     "name": "stdout",
     "output_type": "stream",
     "text": [
      "highestdegree\n",
      "0. None             953\n",
      "1. GED             1146\n",
      "2. High School     3667\n",
      "3. Associates       737\n",
      "4. Bachelors       1673\n",
      "5. Masters          603\n",
      "6. PhD               54\n",
      "7. Professional     120\n",
      "Name: count, dtype: int64\n",
      "\n",
      "Número de valores nulos\n",
      " 31\n"
     ]
    }
   ],
   "source": [
    "print(df['highestdegree'].value_counts().sort_index())\n",
    "print(\"\\nNúmero de valores nulos\\n\", df['highestdegree'].isnull().sum())"
   ]
  },
  {
   "cell_type": "code",
   "execution_count": 15,
   "id": "e1d8baf9",
   "metadata": {},
   "outputs": [
    {
     "name": "stdout",
     "output_type": "stream",
     "text": [
      "['high school' 'none' 'bachelors' 'associates' 'masters' 'ged'\n",
      " 'professional' 'phd' nan]\n"
     ]
    }
   ],
   "source": [
    "df['highestdegree'] = df['highestdegree'].replace(to_replace=r\"\\d[.]\\s\", value=\"\", regex=True)\n",
    "df['highestdegree'] = df['highestdegree'].str.lower()\n",
    "\n",
    "print(df['highestdegree'].unique())"
   ]
  },
  {
   "cell_type": "markdown",
   "id": "c46cb8fe",
   "metadata": {},
   "source": [
    "Se han eliminado los números antes de los niveles de escolaridad. Y todos están en minúsculas"
   ]
  },
  {
   "cell_type": "markdown",
   "id": "3c9e88ce",
   "metadata": {},
   "source": [
    "**03: Alta Cardinalidad - Frecuencias Bajas**"
   ]
  },
  {
   "cell_type": "code",
   "execution_count": 7,
   "id": "6e8ccffb",
   "metadata": {},
   "outputs": [
    {
     "name": "stdout",
     "output_type": "stream",
     "text": [
      "['Married' 'Single/No Partner' nan 'Divorced' 'Separated']\n"
     ]
    }
   ],
   "source": [
    "df[\"marital_grouped\"] = df[\"maritalstatus\"].replace([\"Widowed\", \"Single\"], \"Single/No Partner\")\n",
    "print(df[\"marital_grouped\"].unique())"
   ]
  },
  {
   "cell_type": "code",
   "execution_count": 8,
   "id": "641e82b3",
   "metadata": {},
   "outputs": [
    {
     "name": "stdout",
     "output_type": "stream",
     "text": [
      "marital_grouped\n",
      "Married              3066\n",
      "Single/No Partner    2789\n",
      "Divorced              663\n",
      "Separated             154\n",
      "Name: count, dtype: int64\n"
     ]
    }
   ],
   "source": [
    "print(df[\"marital_grouped\"].value_counts())"
   ]
  },
  {
   "cell_type": "markdown",
   "id": "a6efccf2",
   "metadata": {},
   "source": [
    "**04: Tipos de Datos**"
   ]
  },
  {
   "cell_type": "code",
   "execution_count": 9,
   "id": "affc5d36",
   "metadata": {},
   "outputs": [
    {
     "name": "stdout",
     "output_type": "stream",
     "text": [
      "object\n"
     ]
    }
   ],
   "source": [
    "print(df['gender'].dtype)"
   ]
  },
  {
   "cell_type": "code",
   "execution_count": 10,
   "id": "b579cc78",
   "metadata": {},
   "outputs": [
    {
     "name": "stdout",
     "output_type": "stream",
     "text": [
      "485054\n"
     ]
    }
   ],
   "source": [
    "gender_object = df['gender'].memory_usage(deep=True)\n",
    "print(gender_object)"
   ]
  },
  {
   "cell_type": "code",
   "execution_count": 11,
   "id": "4b2f6e67",
   "metadata": {},
   "outputs": [
    {
     "name": "stdout",
     "output_type": "stream",
     "text": [
      "9332\n"
     ]
    }
   ],
   "source": [
    "df['gender'] = df['gender'].astype('category')\n",
    "\n",
    "gender_category = df['gender'].memory_usage(deep=True)\n",
    "print(gender_category)"
   ]
  },
  {
   "cell_type": "markdown",
   "id": "a79ca1b6",
   "metadata": {},
   "source": [
    "Al usar el tipo de dato categoría, disminuye bastante el consumo de memoria"
   ]
  }
 ],
 "metadata": {
  "kernelspec": {
   "display_name": "Python 3",
   "language": "python",
   "name": "python3"
  },
  "language_info": {
   "codemirror_mode": {
    "name": "ipython",
    "version": 3
   },
   "file_extension": ".py",
   "mimetype": "text/x-python",
   "name": "python",
   "nbconvert_exporter": "python",
   "pygments_lexer": "ipython3",
   "version": "3.12.2"
  }
 },
 "nbformat": 4,
 "nbformat_minor": 5
}
